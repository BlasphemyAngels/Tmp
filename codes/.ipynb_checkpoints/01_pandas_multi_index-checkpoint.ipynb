{
 "cells": [
  {
   "cell_type": "markdown",
   "metadata": {},
   "source": [
    "# Pandas层级索引"
   ]
  },
  {
   "cell_type": "code",
   "execution_count": 2,
   "metadata": {
    "collapsed": true
   },
   "outputs": [],
   "source": [
    "import pandas as pd\n",
    "import numpy as np"
   ]
  },
  {
   "cell_type": "code",
   "execution_count": 4,
   "metadata": {
    "collapsed": false
   },
   "outputs": [
    {
     "name": "stdout",
     "output_type": "stream",
     "text": [
      "a  0   -0.674611\n",
      "   1   -0.942212\n",
      "   2    0.851033\n",
      "b  0    0.935383\n",
      "   1    0.576104\n",
      "   2    0.434570\n",
      "c  0    1.956513\n",
      "   1   -0.318670\n",
      "   2    0.792113\n",
      "d  0   -1.353721\n",
      "   1   -0.195022\n",
      "   2    1.085860\n",
      "dtype: float64\n"
     ]
    }
   ],
   "source": [
    "ser_obj = pd.Series(np.random.randn(12),\n",
    "                    index=[['a', 'a', 'a', 'b', 'b', 'b', 'c', 'c', 'c', 'd', 'd', 'd'],\n",
    "                           [0, 1, 2, 0, 1, 2, 0, 1, 2, 0, 1, 2]])\n",
    "print ser_obj"
   ]
  },
  {
   "cell_type": "markdown",
   "metadata": {},
   "source": [
    "* MultiIndex索引对象"
   ]
  },
  {
   "cell_type": "code",
   "execution_count": 9,
   "metadata": {
    "collapsed": false
   },
   "outputs": [
    {
     "name": "stdout",
     "output_type": "stream",
     "text": [
      "<class 'pandas.indexes.multi.MultiIndex'>\n",
      "MultiIndex(levels=[[u'a', u'b', u'c', u'd'], [0, 1, 2]],\n",
      "           labels=[[0, 0, 0, 1, 1, 1, 2, 2, 2, 3, 3, 3], [0, 1, 2, 0, 1, 2, 0, 1, 2, 0, 1, 2]])\n"
     ]
    }
   ],
   "source": [
    "print type(ser_obj.index)\n",
    "print ser_obj.index"
   ]
  },
  {
   "cell_type": "markdown",
   "metadata": {},
   "source": [
    "* 选取子集"
   ]
  },
  {
   "cell_type": "code",
   "execution_count": 10,
   "metadata": {
    "collapsed": false
   },
   "outputs": [
    {
     "name": "stdout",
     "output_type": "stream",
     "text": [
      "0    1.956513\n",
      "1   -0.318670\n",
      "2    0.792113\n",
      "dtype: float64\n"
     ]
    }
   ],
   "source": [
    "# 外层选取\n",
    "print ser_obj['c']"
   ]
  },
  {
   "cell_type": "code",
   "execution_count": 12,
   "metadata": {
    "collapsed": false
   },
   "outputs": [
    {
     "name": "stdout",
     "output_type": "stream",
     "text": [
      "a    0.851033\n",
      "b    0.434570\n",
      "c    0.792113\n",
      "d    1.085860\n",
      "dtype: float64\n"
     ]
    }
   ],
   "source": [
    "# 内层选取\n",
    "print ser_obj[:, 2]"
   ]
  },
  {
   "cell_type": "markdown",
   "metadata": {},
   "source": [
    "* 交换分层顺序"
   ]
  },
  {
   "cell_type": "code",
   "execution_count": 17,
   "metadata": {
    "collapsed": false
   },
   "outputs": [
    {
     "name": "stdout",
     "output_type": "stream",
     "text": [
      "0  a   -0.674611\n",
      "1  a   -0.942212\n",
      "2  a    0.851033\n",
      "0  b    0.935383\n",
      "1  b    0.576104\n",
      "2  b    0.434570\n",
      "0  c    1.956513\n",
      "1  c   -0.318670\n",
      "2  c    0.792113\n",
      "0  d   -1.353721\n",
      "1  d   -0.195022\n",
      "2  d    1.085860\n",
      "dtype: float64\n"
     ]
    }
   ],
   "source": [
    "print ser_obj.swaplevel()"
   ]
  },
  {
   "cell_type": "markdown",
   "metadata": {},
   "source": [
    "* 交换并排序分层"
   ]
  },
  {
   "cell_type": "code",
   "execution_count": 18,
   "metadata": {
    "collapsed": false
   },
   "outputs": [
    {
     "name": "stdout",
     "output_type": "stream",
     "text": [
      "0  a   -0.674611\n",
      "   b    0.935383\n",
      "   c    1.956513\n",
      "   d   -1.353721\n",
      "1  a   -0.942212\n",
      "   b    0.576104\n",
      "   c   -0.318670\n",
      "   d   -0.195022\n",
      "2  a    0.851033\n",
      "   b    0.434570\n",
      "   c    0.792113\n",
      "   d    1.085860\n",
      "dtype: float64\n"
     ]
    }
   ],
   "source": [
    "print ser_obj.swaplevel().sortlevel()"
   ]
  },
  {
   "cell_type": "code",
   "execution_count": null,
   "metadata": {
    "collapsed": true
   },
   "outputs": [],
   "source": []
  }
 ],
 "metadata": {
  "anaconda-cloud": {},
  "kernelspec": {
   "display_name": "Python [conda root]",
   "language": "python",
   "name": "conda-root-py"
  },
  "language_info": {
   "codemirror_mode": {
    "name": "ipython",
    "version": 2
   },
   "file_extension": ".py",
   "mimetype": "text/x-python",
   "name": "python",
   "nbconvert_exporter": "python",
   "pygments_lexer": "ipython2",
   "version": "2.7.12"
  }
 },
 "nbformat": 4,
 "nbformat_minor": 1
}
